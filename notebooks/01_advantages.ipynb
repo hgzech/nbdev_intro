{
 "cells": [
  {
   "cell_type": "code",
   "execution_count": null,
   "id": "31a035d2-a7b8-4f43-8ea5-b2828ed0a381",
   "metadata": {},
   "outputs": [],
   "source": [
    "# default_exp advantages"
   ]
  },
  {
   "cell_type": "markdown",
   "id": "16eb0f4b-f039-4ebf-869a-ed0499583ba4",
   "metadata": {},
   "source": [
    "# Advantages of Jupyter\n",
    "\n",
    "> Here we summarize the advantages of jupyter notebooks"
   ]
  },
  {
   "cell_type": "markdown",
   "id": "fe85fb07-2c89-4e84-9e4c-651b988647d1",
   "metadata": {},
   "source": [
    "## Mixing code with rich documentation \n",
    "\"<b>Literate programming</b> is a methodology that combines a programming language with a documentation language, thereby making programs more robust, more portable, more easily maintained, and arguably more fun to write [...]. The main idea is to treat a program as a piece of literature, addressed to human beings rather than to a computer.\" (Donald E. Knuth, 1992)"
   ]
  },
  {
   "cell_type": "markdown",
   "id": "95902ce3-8c77-4e3b-a5d6-01549f37e843",
   "metadata": {},
   "source": [
    "### Images"
   ]
  },
  {
   "cell_type": "markdown",
   "id": "78c18030-b331-49c4-8b5e-204b8826ef04",
   "metadata": {},
   "source": [
    "<img src=\"images/like_notebooks.png\" width=\"400\" height=\"400\">"
   ]
  },
  {
   "cell_type": "markdown",
   "id": "51b7837f-c1ab-4862-b518-7d34cc97acc6",
   "metadata": {},
   "source": [
    "For a better summary of the advantages of Jupyter, watch [this video](https://www.youtube.com/watch?v=9Q6sLbz37gk) by Jeremy Howard."
   ]
  },
  {
   "cell_type": "markdown",
   "id": "beafd1fa-ef2a-45a2-879b-ee538fb8795b",
   "metadata": {},
   "source": [
    "### Latex\n",
    "$\\text{New}Q(s,a)=Q(s,a)+\\mkern-30mu\\underset{\\text{New Q-Value}}{\\underset{\\Bigl|}{\\alpha}}\\mkern-22mu[\\mkern-3mu\\underbrace{R(s,a)}_{\\scriptstyle\\text{Reward}}+\\mkern-30mu\\underset{\\text{Discount rate}}{\\underset{\\Biggl|}{\\mkern+5mu\\gamma}}\\mkern-75mu\\overbrace{\\max Q'(s',a')}^{\\scriptstyle\\substack{\\text{Maximum predicted reward, given new state}\\\\\\text{and all possible actions}}}\\mkern-55mu-Q(s,a)]$"
   ]
  },
  {
   "cell_type": "markdown",
   "id": "678c20c2-4566-4972-a5f3-866aa20af9ae",
   "metadata": {},
   "source": [
    "### HTML"
   ]
  },
  {
   "cell_type": "code",
   "execution_count": null,
   "id": "ac282740-3583-4a60-b411-85268b3703d3",
   "metadata": {},
   "outputs": [
    {
     "data": {
      "text/html": [
       "<iframe class=\"center\" width=\"560\" height=\"315\" src=\"https://www.youtube.com/embed/yMk_XtIEzH8?rel=0&amp;controls=0&amp;showinfo=0\" frameborder=\"1\" allowfullscreen></iframe>"
      ],
      "text/plain": [
       "<IPython.core.display.HTML object>"
      ]
     },
     "metadata": {},
     "output_type": "display_data"
    }
   ],
   "source": [
    "from IPython.display import HTML\n",
    "# you only change video ID : 'TNzDMOg_zsw' , and width and height as you want\n",
    "display(HTML('<iframe class=\"center\" width=\"560\" height=\"315\" src=\"https://www.youtube.com/embed/yMk_XtIEzH8?rel=0&amp;controls=0&amp;showinfo=0\" frameborder=\"1\" allowfullscreen></iframe>'))"
   ]
  },
  {
   "cell_type": "markdown",
   "id": "85d87292-3996-489b-9b0e-04243503bc7c",
   "metadata": {},
   "source": [
    "### Automatic table of contents\n",
    "#### Third level heading example"
   ]
  },
  {
   "cell_type": "markdown",
   "id": "71ba59f7-3995-40b1-b9b9-3e777605bc73",
   "metadata": {},
   "source": [
    "## Reporting results in the same document plotting\n",
    "Allows to present analyses while you're working on them."
   ]
  },
  {
   "cell_type": "markdown",
   "id": "6f3290e1-1158-4fb3-bb97-80a62c7921a2",
   "metadata": {},
   "source": [
    "1) Installing the necessary packages (you only need to do this once per environment)"
   ]
  },
  {
   "cell_type": "code",
   "execution_count": null,
   "id": "9ddb9cba-9c2b-4c91-abcc-d27e9ac04792",
   "metadata": {},
   "outputs": [],
   "source": [
    "#!mamba install pandas -y -q\n",
    "#!mamba install fastparquet -y -q\n",
    "#!mamba install matplotlib -y -q\n",
    "#!mamba install seaborn -y -q"
   ]
  },
  {
   "cell_type": "markdown",
   "id": "418c4e4e-a66e-4ebd-97ed-2b73bc8ff732",
   "metadata": {},
   "source": [
    "2. Plotting "
   ]
  },
  {
   "cell_type": "code",
   "execution_count": null,
   "id": "bb25de03-1db4-46af-992e-ffc99b8ea53d",
   "metadata": {},
   "outputs": [
    {
     "data": {
      "image/png": "[encoded data removed]",
      "text/plain": [
       "<Figure size 432x288 with 1 Axes>"
      ]
     },
     "metadata": {
      "needs_background": "light"
     },
     "output_type": "display_data"
    }
   ],
   "source": [
    "import pandas as pd\n",
    "import seaborn as sns\n",
    "df = pd.read_parquet('../data/external/example_data.parquet', columns = ['participant','rt'])\n",
    "sns.distplot(df.rt, kde = False, bins = 100, color = sns.color_palette()[0])\n",
    "sns.despine()"
   ]
  },
  {
   "cell_type": "markdown",
   "id": "99a469b3-8aa8-48ca-91d7-d6051f5b2799",
   "metadata": {},
   "source": [
    "## Mixing of languages in same analysis pipeline (e.g. Python, R).\n",
    "Matlab requires separate notebook, as far as I know."
   ]
  },
  {
   "cell_type": "markdown",
   "id": "abed8ce1-c5d2-4657-b01e-3edbdc8ca9f9",
   "metadata": {},
   "source": [
    "Installing Python-to-R interface"
   ]
  },
  {
   "cell_type": "code",
   "execution_count": null,
   "id": "4f2c225a-f158-4152-9c94-793868f64c3a",
   "metadata": {},
   "outputs": [],
   "source": [
    "#!mamba install rpy2 -y -q"
   ]
  },
  {
   "cell_type": "markdown",
   "id": "d0ef972d-c565-4b78-a506-bd4c3db5c58b",
   "metadata": {},
   "source": [
    "Enabling Python-to-R interface (Note Magic function)"
   ]
  },
  {
   "cell_type": "code",
   "execution_count": null,
   "id": "3929c52b-5ddf-4df2-bf17-1cc076371ce8",
   "metadata": {},
   "outputs": [],
   "source": [
    "%reload_ext rpy2.ipython"
   ]
  },
  {
   "cell_type": "markdown",
   "id": "a7359ad5-6f28-4f54-951f-cab291bd4eb7",
   "metadata": {},
   "source": [
    "Loading data (Python)"
   ]
  },
  {
   "cell_type": "code",
   "execution_count": null,
   "id": "a7b7b25c-a351-4787-a59f-60a52edacd31",
   "metadata": {},
   "outputs": [],
   "source": [
    "df = pd.read_parquet('../data/external/example_data.parquet', columns = ['participant','is_pull_c','is_food_c','rt'])"
   ]
  },
  {
   "cell_type": "markdown",
   "id": "1824bd42-03e6-4e7d-af84-97e4dacfa1dc",
   "metadata": {},
   "source": [
    "Installing some R-packages"
   ]
  },
  {
   "cell_type": "code",
   "execution_count": null,
   "id": "689de185-87f5-4597-a555-9ca73ca7dd41",
   "metadata": {},
   "outputs": [],
   "source": [
    "#!mamba install r-lme4 -y -q\n",
    "#!mamba install r-lmerTest -y -q"
   ]
  },
  {
   "cell_type": "markdown",
   "id": "8dd4bdf2-808c-4e84-9b66-92b1dab1b882",
   "metadata": {},
   "source": [
    "Moving data to R, running mixed model, moving random_effects to Python"
   ]
  },
  {
   "cell_type": "code",
   "execution_count": null,
   "id": "1f29b6f5-d7ab-4514-9e31-7fe92a37f210",
   "metadata": {},
   "outputs": [
    {
     "name": "stdout",
     "output_type": "stream",
     "text": [
      "Linear mixed model fit by REML. t-tests use Satterthwaite's method [\n",
      "lmerModLmerTest]\n",
      "Formula: 1/rt ~ is_pull_c * is_food_c + (1 | participant)\n",
      "   Data: df\n",
      "\n",
      "REML criterion at convergence: -68031.9\n",
      "\n",
      "Scaled residuals: \n",
      "    Min      1Q  Median      3Q     Max \n",
      "-4.1534 -0.6476 -0.0345  0.6088  5.5019 \n",
      "\n",
      "Random effects:\n",
      " Groups      Name        Variance  Std.Dev. \n",
      " participant (Intercept) 6.400e-08 0.0002530\n",
      " Residual                1.892e-07 0.0004349\n",
      "Number of obs: 5401, groups:  participant, 48\n",
      "\n",
      "Fixed effects:\n",
      "                     Estimate Std. Error        df t value Pr(>|t|)    \n",
      "(Intercept)         2.141e-03  3.705e-05 4.732e+01  57.791  < 2e-16 ***\n",
      "is_pull_c           3.409e-05  1.260e-05 5.350e+03   2.705  0.00686 ** \n",
      "is_food_c           1.364e-04  1.260e-05 5.350e+03  10.821  < 2e-16 ***\n",
      "is_pull_c:is_food_c 2.074e-04  2.521e-05 5.350e+03   8.226 2.42e-16 ***\n",
      "---\n",
      "Signif. codes:  0 ‘***’ 0.001 ‘**’ 0.01 ‘*’ 0.05 ‘.’ 0.1 ‘ ’ 1\n",
      "\n",
      "Correlation of Fixed Effects:\n",
      "            (Intr) is_pl_ is_fd_\n",
      "is_pull_c    0.000              \n",
      "is_food_c   -0.058 -0.002       \n",
      "is_pll_c:__  0.000 -0.343 -0.002\n"
     ]
    }
   ],
   "source": [
    "%%R -i df -o random_effects\n",
    "require(lme4)\n",
    "require(lmerTest)\n",
    "m = lmer(1/rt ~ is_pull_c * is_food_c + (1 | participant), data = df)\n",
    "random_effects <- ranef(m)$participant \n",
    "print(summary(m))"
   ]
  },
  {
   "cell_type": "code",
   "execution_count": null,
   "id": "9a9f9f36-e216-4f69-88ce-2911f8426c2c",
   "metadata": {},
   "outputs": [
    {
     "data": {
      "image/png": "[encoded data removed]",
      "text/plain": [
       "<Figure size 432x288 with 1 Axes>"
      ]
     },
     "metadata": {
      "needs_background": "light"
     },
     "output_type": "display_data"
    }
   ],
   "source": [
    "sns.distplot(random_effects, bins = 15)\n",
    "sns.despine()"
   ]
  },
  {
   "cell_type": "markdown",
   "id": "3eb40211-2fc9-4bda-b1a8-3f823f0236bb",
   "metadata": {},
   "source": [
    "Mixing Python and R in the same function:"
   ]
  },
  {
   "cell_type": "code",
   "execution_count": null,
   "id": "1d48f313-5e62-4833-b887-e091c25fa7b3",
   "metadata": {},
   "outputs": [
    {
     "name": "stdout",
     "output_type": "stream",
     "text": [
      "[1] 8\n"
     ]
    }
   ],
   "source": [
    "def mixed_python_and_r(x):\n",
    "    y = x + 2\n",
    "    %R print(y) -i y\n",
    "    \n",
    "mixed_python_and_r(6)"
   ]
  },
  {
   "cell_type": "markdown",
   "id": "95342271-c9ba-44dc-8943-657c29436a76",
   "metadata": {},
   "source": [
    "## Easy export to html, pdf, latex, etc\n",
    "- You can even publish [books](https://books.google.gr/books?id=yATuDwAAQBAJ&printsec=frontcover&hl=el&source=gbs_ge_summary_r&cad=0#v=onepage&q&f=false) based on Jupyter notebooks."
   ]
  }
 ],
 "metadata": {
  "kernelspec": {
   "display_name": "Python 3 (ipykernel)",
   "language": "python",
   "name": "python3"
  }
 },
 "nbformat": 4,
 "nbformat_minor": 5
}
