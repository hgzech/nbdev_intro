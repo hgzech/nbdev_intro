{
 "cells": [
  {
   "cell_type": "code",
   "execution_count": null,
   "id": "3fab87a6-a89a-446c-8c95-23deffdbb6de",
   "metadata": {},
   "outputs": [],
   "source": [
    "# default_exp disadvantages"
   ]
  },
  {
   "cell_type": "markdown",
   "id": "48a74f26-fe63-4313-9cdb-e6a0e8392c58",
   "metadata": {},
   "source": [
    "# Disadvantages\n",
    "\n",
    "> Here we summarize the disadvantages of jupyter."
   ]
  },
  {
   "cell_type": "markdown",
   "id": "550a163f-2e9a-42f8-a868-25d2a1912798",
   "metadata": {},
   "source": [
    "based on Joel Grus' [I Don't Like Notebooks](https://docs.google.com/presentation/d/1n2RlMdmv1p25Xy5thJUhkKGvjtV-dkAIsUXP-AL4ffI/edit#slide=id.g3da7b464f1_0_3) and Felix Knorr's [An introduction to Jupyter - and why I don't like it ](https://felix-knorr.net/posts/2020-11-09-jupyter.html)."
   ]
  },
  {
   "cell_type": "markdown",
   "id": "249329ee-96f3-40ec-a732-c5ea23d34b56",
   "metadata": {},
   "source": [
    "## Crowded notebooks\n",
    "\"Usually, for me, I found that 70% - 90% of the visible area in a notebook was covered with code, rather than with results. To get to a result, you'd have to scroll a lot.\"\n",
    "### Solution\n",
    "Create more notebooks to split up analyses and use table of contents."
   ]
  },
  {
   "cell_type": "markdown",
   "id": "31100937-cdac-4d03-9200-9e077ac4de83",
   "metadata": {},
   "source": [
    "## Hidden states \n",
    "\"[...] because of the easy access to code that was typed in earlier, I'd regularly go up, make some changes, rerun a cell, and then continue in the bottom. This would lead to notebooks that will not be able to execute from top to bottom because some cells would rely on something that was changed away in a cell above it.\""
   ]
  },
  {
   "cell_type": "markdown",
   "id": "c8861064-d9ee-41ed-bf45-efa09c5ca159",
   "metadata": {},
   "source": [
    "### Example 1"
   ]
  },
  {
   "cell_type": "code",
   "execution_count": null,
   "id": "57234fbf-062b-4dae-803b-3c920d1a8c36",
   "metadata": {},
   "outputs": [
    {
     "name": "stdout",
     "output_type": "stream",
     "text": [
      "I came up with this later, but should also mention this above\n"
     ]
    }
   ],
   "source": [
    "#print(afterthought)"
   ]
  },
  {
   "cell_type": "code",
   "execution_count": null,
   "id": "62ce1318-c823-4a63-b60d-88599fdbc3aa",
   "metadata": {},
   "outputs": [],
   "source": [
    "# imagine a lot of code here"
   ]
  },
  {
   "cell_type": "code",
   "execution_count": null,
   "id": "c7c265d8-31e6-4e23-aab5-860fb6024805",
   "metadata": {},
   "outputs": [],
   "source": [
    "afterthought = \"I came up with this later, but should also mention this above\""
   ]
  },
  {
   "cell_type": "markdown",
   "id": "108bd26c-4789-4c7f-9c97-4d330380c07d",
   "metadata": {},
   "source": [
    "This can be especially frustrating for beginners learning Python, as these problems are very unintuitive."
   ]
  },
  {
   "cell_type": "markdown",
   "id": "ba166351-6824-4496-beb9-ed7d9b10b6be",
   "metadata": {},
   "source": [
    "### Example 2"
   ]
  },
  {
   "cell_type": "code",
   "execution_count": null,
   "id": "03cd1007-a7a1-466b-bb33-ac5f60435f82",
   "metadata": {},
   "outputs": [],
   "source": [
    "outcome = 10"
   ]
  },
  {
   "cell_type": "code",
   "execution_count": null,
   "id": "1225c017-d22d-40d8-823f-56f9fb335c76",
   "metadata": {},
   "outputs": [],
   "source": [
    "# imagine lots of code here"
   ]
  },
  {
   "cell_type": "code",
   "execution_count": null,
   "id": "f1194ef8-808b-413d-a4c6-dccd2d266fd3",
   "metadata": {},
   "outputs": [
    {
     "name": "stdout",
     "output_type": "stream",
     "text": [
      "Our outcome is 14. Great, lets put this in our paper!\n"
     ]
    }
   ],
   "source": [
    "print(\"Our outcome is %d. Great, lets put this in our paper!\"%outcome)"
   ]
  },
  {
   "cell_type": "code",
   "execution_count": null,
   "id": "4bd92687-eaae-4a08-9837-cef237d9bab8",
   "metadata": {},
   "outputs": [],
   "source": [
    "# imagine lots of code here"
   ]
  },
  {
   "cell_type": "code",
   "execution_count": null,
   "id": "1d9ffb22-47cb-42a5-ae05-26be9bfdb547",
   "metadata": {},
   "outputs": [
    {
     "name": "stdout",
     "output_type": "stream",
     "text": [
      "14\n"
     ]
    }
   ],
   "source": [
    "def lets_try_this_fancy_outcome_filter(outcome):\n",
    "    return outcome + 2\n",
    "    \n",
    "outcome = lets_try_this_fancy_outcome_filter(outcome)\n",
    "print(outcome)"
   ]
  },
  {
   "cell_type": "markdown",
   "id": "7ffc3dbf-f523-4397-9af6-fbfb28ea585e",
   "metadata": {},
   "source": [
    "### Real-life example"
   ]
  },
  {
   "cell_type": "markdown",
   "id": "ebb97e9f-838d-483e-8932-aacadbd488b3",
   "metadata": {},
   "source": [
    "<img src=\"images/old_plot.png\" width=\"400\" height=\"400\">"
   ]
  },
  {
   "cell_type": "markdown",
   "id": "5ae7e604-8298-48dc-91b9-27818fb60a73",
   "metadata": {},
   "source": [
    "<img src=\"images/email_lorenz.png\" width=\"600\" height=\"400\">"
   ]
  },
  {
   "cell_type": "markdown",
   "id": "fba90431-71ae-4dcd-b42f-ab1d9554db00",
   "metadata": {},
   "source": [
    "<img src=\"images/new_plot.png\" width=\"400\" height=\"400\">"
   ]
  },
  {
   "cell_type": "markdown",
   "id": "2299a4f2-015c-4a36-bbc8-ecacd6441b26",
   "metadata": {},
   "source": [
    "### Solution: Tests"
   ]
  },
  {
   "cell_type": "code",
   "execution_count": null,
   "id": "4e3bdd19-3e0b-4c21-bfd0-2392b65adb5e",
   "metadata": {},
   "outputs": [],
   "source": [
    "def long_analysis():\n",
    "    # a lot of code\n",
    "    p = .023\n",
    "    return p"
   ]
  },
  {
   "cell_type": "code",
   "execution_count": null,
   "id": "e014b1a5-317a-4359-96e0-6d8b99de7328",
   "metadata": {},
   "outputs": [],
   "source": [
    "assert long_analysis() == .023, \"The result of long analysis has changed.\""
   ]
  },
  {
   "cell_type": "markdown",
   "id": "5b3a4699-0d75-488a-9a8e-131b1c88c238",
   "metadata": {},
   "source": [
    "## Code repetition\n",
    "\n",
    "\"Sometimes I did an analysis in Jupyter, and at some point, I would want to run that same analysis with a different dataset. What would I do? Obviously I'd copy that notebook, exchange the path in the top, and run it again [...]. AND THEN you find a bug in that notebook, and have to fix it in ALL of those pesky copies, \\<sarcasm>oh the pleasure … \\</sarcasm>.\"\n",
    "\n",
    "\"Also, I would copy a lot of code between notebooks, which is a terrible thing to do.\""
   ]
  },
  {
   "cell_type": "markdown",
   "id": "b5fce533-a09f-4196-998b-cc1c5ae79276",
   "metadata": {},
   "source": [
    "### Solution: Write functions"
   ]
  },
  {
   "cell_type": "code",
   "execution_count": null,
   "id": "483e4134-5a76-49da-a02b-07de73efbe21",
   "metadata": {},
   "outputs": [],
   "source": [
    "# export\n",
    "def plus_two(x): \n",
    "    return x + 2"
   ]
  },
  {
   "cell_type": "markdown",
   "id": "c5b278e1-0c7a-4887-938a-03caa5e8a9fd",
   "metadata": {},
   "source": [
    "## Notebooks do not work with github\n",
    "\"People tend to have notebooks stored in git repositories, or at least I used to. Sometimes git would see a notebook as changed when I just opened it, and scrolled down without actually making changes. Also notebooks contain images, these Will blow up your repository hugely. Also it's a very bad practice to store data in git. Git is for source code.\""
   ]
  },
  {
   "cell_type": "markdown",
   "id": "6d2a8dc9-e250-4f00-9377-6bd1bcb63961",
   "metadata": {},
   "source": [
    "### Solution: Export to packages"
   ]
  },
  {
   "cell_type": "markdown",
   "id": "247d8eea-ab88-4eb1-8ce7-f8d346d980f1",
   "metadata": {},
   "source": [
    "# Summary"
   ]
  },
  {
   "cell_type": "markdown",
   "id": "0eb4a26b-c689-46d5-a015-ad90725328c9",
   "metadata": {},
   "source": [
    "Notebooks are great to mix your code, documentation, and results, which is especially great for open science and sharing analyses. However, they come with several downsides, including hidden states that break analyses, code repetition, and non-compatability with github."
   ]
  },
  {
   "cell_type": "markdown",
   "id": "f756cc42-823a-48eb-9f6e-9c770bc152e7",
   "metadata": {},
   "source": [
    "## General solution\n",
    "We should start using nbdev https://www.youtube.com/watch?v=9Q6sLbz37gk, which allows to:\n",
    "- build packages with notebooks\n",
    "- version control\n",
    "- test\n",
    "- publish analysis as book (which is one of my long-time personal dreams) using fastdoc."
   ]
  }
 ],
 "metadata": {
  "kernelspec": {
   "display_name": "Python 3 (ipykernel)",
   "language": "python",
   "name": "python3"
  }
 },
 "nbformat": 4,
 "nbformat_minor": 5
}
