{
 "cells": [
  {
   "cell_type": "code",
   "execution_count": null,
   "id": "3fab87a6-a89a-446c-8c95-23deffdbb6de",
   "metadata": {},
   "outputs": [],
   "source": [
    "# default_exp nbdev"
   ]
  },
  {
   "cell_type": "markdown",
   "id": "48a74f26-fe63-4313-9cdb-e6a0e8392c58",
   "metadata": {},
   "source": [
    "# nbdev\n",
    "\n",
    "> Here we summarize how nbdev overcomes disadvantages of jupyter notebooks."
   ]
  },
  {
   "cell_type": "markdown",
   "id": "edf99bd8-b9bc-4f6b-875d-c58ba93fd755",
   "metadata": {},
   "source": [
    "<img src=\"images/nbdev_rescue.jpg\" width=\"400\" height=\"400\">"
   ]
  },
  {
   "cell_type": "markdown",
   "id": "dcfc8a4c-9f1d-4156-95a9-7a29cf975c59",
   "metadata": {},
   "source": [
    "## Code repetition\n",
    "nbdev automatically exports all your code to Python packages (which you can even automatically upload to PyPi)."
   ]
  },
  {
   "cell_type": "code",
   "execution_count": null,
   "id": "68903109-eece-4f34-b141-6afe30654130",
   "metadata": {},
   "outputs": [
    {
     "data": {
      "text/plain": [
       "4"
      ]
     },
     "execution_count": null,
     "metadata": {},
     "output_type": "execute_result"
    }
   ],
   "source": [
    "from nbdev_intro.disadvantages import plus_two\n",
    "plus_two(2)"
   ]
  },
  {
   "cell_type": "markdown",
   "id": "d703662c-9862-48f0-9d63-3d8744351e13",
   "metadata": {},
   "source": [
    "## Notebooks do not work with github\n",
    "nbdev is closely integrated with github (uses git for version control, automated tests, and online documentation)."
   ]
  },
  {
   "cell_type": "markdown",
   "id": "fe4c1d4a-3127-467d-a8b6-210fdd3b156b",
   "metadata": {},
   "source": [
    "## Hidden states\n",
    "Notebooks have elaborate testing function including automated tests that run on github."
   ]
  },
  {
   "cell_type": "markdown",
   "id": "9f2f075c-8fa4-47fb-957a-d81d66278400",
   "metadata": {},
   "source": [
    "## Crowded notebooks\n",
    "Notebooks can easily interact using the nbdev's code export (see above).\n",
    "\n",
    "\n",
    "\\+ Nbdev automatically generates documentations based on your notebooks."
   ]
  },
  {
   "cell_type": "markdown",
   "id": "20a2d223-fc46-46a5-94a2-d19eefa315fa",
   "metadata": {},
   "source": [
    "## Summary"
   ]
  },
  {
   "cell_type": "markdown",
   "id": "512b58b6-d2ee-4c58-bb5b-d0117eb69df2",
   "metadata": {},
   "source": [
    "- Jupyter notebooks are a great way to quickly share analyses\n",
    "- They come with some disadvantages which can be solved with nbdev."
   ]
  }
 ],
 "metadata": {
  "kernelspec": {
   "display_name": "Python 3 (ipykernel)",
   "language": "python",
   "name": "python3"
  }
 },
 "nbformat": 4,
 "nbformat_minor": 5
}
