{
 "cells": [
  {
   "cell_type": "code",
   "execution_count": null,
   "id": "3fab87a6-a89a-446c-8c95-23deffdbb6de",
   "metadata": {},
   "outputs": [],
   "source": [
    "# default_exp nbdev"
   ]
  },
  {
   "cell_type": "markdown",
   "id": "48a74f26-fe63-4313-9cdb-e6a0e8392c58",
   "metadata": {},
   "source": [
    "# nbdev\n",
    "\n",
    "> Here we summarize how nbdev overcomes disadvantages of jupyter notebooks."
   ]
  },
  {
   "cell_type": "markdown",
   "id": "edf99bd8-b9bc-4f6b-875d-c58ba93fd755",
   "metadata": {},
   "source": [
    "<img src=\"images/nbdev_rescue.jpg\" width=\"400\" height=\"400\">"
   ]
  },
  {
   "cell_type": "markdown",
   "id": "dcfc8a4c-9f1d-4156-95a9-7a29cf975c59",
   "metadata": {},
   "source": [
    "## Code repetition\n",
    "nbdev automatically exports all your code to Python packages."
   ]
  },
  {
   "cell_type": "code",
   "execution_count": null,
   "id": "68903109-eece-4f34-b141-6afe30654130",
   "metadata": {},
   "outputs": [
    {
     "data": {
      "text/plain": [
       "4"
      ]
     },
     "execution_count": null,
     "metadata": {},
     "output_type": "execute_result"
    }
   ],
   "source": [
    "from nbdev_intro.disadvantages import plus_two\n",
    "plus_two(2)"
   ]
  },
  {
   "cell_type": "markdown",
   "id": "d703662c-9862-48f0-9d63-3d8744351e13",
   "metadata": {},
   "source": [
    "## Notebooks do not work with github\n"
   ]
  },
  {
   "cell_type": "markdown",
   "id": "fe4c1d4a-3127-467d-a8b6-210fdd3b156b",
   "metadata": {},
   "source": [
    "### Example"
   ]
  },
  {
   "cell_type": "code",
   "execution_count": null,
   "id": "f545304e-aae3-4184-bf4a-b89560124282",
   "metadata": {},
   "outputs": [],
   "source": [
    "y = 4"
   ]
  },
  {
   "cell_type": "code",
   "execution_count": null,
   "id": "c5412a22-6c5e-4cc8-aaf6-de2fd7334124",
   "metadata": {},
   "outputs": [
    {
     "data": {
      "text/plain": [
       "True"
      ]
     },
     "execution_count": null,
     "metadata": {},
     "output_type": "execute_result"
    }
   ],
   "source": [
    "y == 4"
   ]
  },
  {
   "cell_type": "markdown",
   "id": "108bd26c-4789-4c7f-9c97-4d330380c07d",
   "metadata": {},
   "source": [
    "This can be especially frustrating for beginners learning Python, as these problems are very unintuitive."
   ]
  },
  {
   "cell_type": "markdown",
   "id": "9f2f075c-8fa4-47fb-957a-d81d66278400",
   "metadata": {},
   "source": [
    "### Solution 1: Don't run your cells out of order"
   ]
  },
  {
   "cell_type": "markdown",
   "id": "b5fce533-a09f-4196-998b-cc1c5ae79276",
   "metadata": {},
   "source": [
    "### Solution 2: Make cells independent\n",
    "#### Example:"
   ]
  },
  {
   "cell_type": "code",
   "execution_count": null,
   "id": "483e4134-5a76-49da-a02b-07de73efbe21",
   "metadata": {},
   "outputs": [],
   "source": [
    "def f(x): return x + 2"
   ]
  },
  {
   "cell_type": "code",
   "execution_count": null,
   "id": "8802f78b-5a2b-4e63-95f3-762271d781b6",
   "metadata": {},
   "outputs": [
    {
     "name": "stdout",
     "output_type": "stream",
     "text": [
      "True\n",
      "4\n"
     ]
    }
   ],
   "source": [
    "def test_2_plus_2():\n",
    "    y = f(2)\n",
    "    print(y == 4)\n",
    "    print(y)\n",
    "test_2_plus_2()"
   ]
  },
  {
   "cell_type": "code",
   "execution_count": null,
   "id": "9b576208-21de-4242-afe7-4afaa5b9df80",
   "metadata": {},
   "outputs": [
    {
     "name": "stdout",
     "output_type": "stream",
     "text": [
      "5\n"
     ]
    }
   ],
   "source": [
    "def y_to_5():\n",
    "    y = 5\n",
    "    print(y)\n",
    "y_to_5()"
   ]
  },
  {
   "cell_type": "markdown",
   "id": "4e155b99-3db9-4f1a-a699-c56a303f847b",
   "metadata": {},
   "source": [
    "##### If they need to interact: Persist data"
   ]
  },
  {
   "cell_type": "code",
   "execution_count": null,
   "id": "b3565a56-8322-48a0-89f1-88b744e2eeeb",
   "metadata": {},
   "outputs": [
    {
     "name": "stdout",
     "output_type": "stream",
     "text": [
      "6\n"
     ]
    }
   ],
   "source": [
    "import pickle as pkl\n",
    "\n",
    "def create_y():\n",
    "    y = 6\n",
    "    with open(\"y.pkl\", \"wb\") as f: # Note: parquet is a better format for dataframes\n",
    "        pkl.dump(y, f)\n",
    "        \n",
    "    \n",
    "def show_y():\n",
    "    with open(\"y.pkl\", \"rb\") as f:\n",
    "        y = pkl.load(f)\n",
    "        print(y)\n",
    "        \n",
    "create_y()\n",
    "show_y()"
   ]
  },
  {
   "cell_type": "markdown",
   "id": "92376e8e-358d-4eee-8c85-f1c39ba0d00c",
   "metadata": {},
   "source": [
    "#### Bonus advantages:\n",
    "- Makes it easy to move cells to \"proper\" python packages\n",
    "- ...or to import functions from one notebook into another (although this is discouraged)"
   ]
  },
  {
   "cell_type": "markdown",
   "id": "5ca29e54-a56f-42fc-a701-920abc8e2c32",
   "metadata": {},
   "source": [
    "### Additional safety: Tests"
   ]
  },
  {
   "cell_type": "code",
   "execution_count": null,
   "id": "d1c1d7f8-4bd9-4aaa-8f45-097cfc2ef076",
   "metadata": {},
   "outputs": [
    {
     "data": {
      "text/plain": [
       "5"
      ]
     },
     "execution_count": null,
     "metadata": {},
     "output_type": "execute_result"
    }
   ],
   "source": [
    "y"
   ]
  },
  {
   "cell_type": "code",
   "execution_count": null,
   "id": "dbe463e9-5a32-43e2-8423-bbc7d88c1f08",
   "metadata": {},
   "outputs": [],
   "source": [
    "def f(x): return x + 2"
   ]
  },
  {
   "cell_type": "code",
   "execution_count": null,
   "id": "4ff5f8a7-3eef-4d47-84ca-97e435486f22",
   "metadata": {},
   "outputs": [],
   "source": [
    "y = 5"
   ]
  },
  {
   "cell_type": "code",
   "execution_count": null,
   "id": "73606a0c-7410-4a79-891b-e858ff4ff611",
   "metadata": {},
   "outputs": [
    {
     "ename": "AssertionError",
     "evalue": "This should really be 4",
     "output_type": "error",
     "traceback": [
      "\u001b[0;31m---------------------------------------------------------------------------\u001b[0m",
      "\u001b[0;31mAssertionError\u001b[0m                            Traceback (most recent call last)",
      "\u001b[0;32m/var/folders/16/2wxbnpk5321f8g40bxf0ht_h0000gn/T/ipykernel_22054/2746132376.py\u001b[0m in \u001b[0;36m<module>\u001b[0;34m\u001b[0m\n\u001b[0;32m----> 1\u001b[0;31m \u001b[0;32massert\u001b[0m \u001b[0my\u001b[0m \u001b[0;34m==\u001b[0m \u001b[0;36m4\u001b[0m\u001b[0;34m,\u001b[0m \u001b[0;34m\"This should really be 4\"\u001b[0m\u001b[0;34m\u001b[0m\u001b[0;34m\u001b[0m\u001b[0m\n\u001b[0m",
      "\u001b[0;31mAssertionError\u001b[0m: This should really be 4"
     ]
    }
   ],
   "source": [
    "assert y == 4, \"This should really be 4\""
   ]
  },
  {
   "cell_type": "code",
   "execution_count": null,
   "id": "6e2884e7-9473-4caa-9d2b-70529e46f9c0",
   "metadata": {},
   "outputs": [
    {
     "name": "stdout",
     "output_type": "stream",
     "text": [
      "4\n"
     ]
    }
   ],
   "source": [
    "print(y)"
   ]
  },
  {
   "cell_type": "code",
   "execution_count": null,
   "id": "489b29c7-aa98-485b-9b9d-62e115437eb0",
   "metadata": {},
   "outputs": [],
   "source": [
    "y = 5"
   ]
  },
  {
   "cell_type": "markdown",
   "id": "400124a5-c66e-4658-ba7e-9a0cb031dfce",
   "metadata": {},
   "source": [
    "## Jupyter notebooks encourage bad habits"
   ]
  },
  {
   "cell_type": "markdown",
   "id": "512b58b6-d2ee-4c58-bb5b-d0117eb69df2",
   "metadata": {},
   "source": [
    "- Coding fast vs. coding well.\n",
    "- Notebooks are very good at \"getting things to work fast\"\n",
    "- However, fast coding often makes code difficult to understand and potentially introduces bugs.\n",
    "- Requirements are not defined on top of notebook -> Solution use environments and requirements file"
   ]
  },
  {
   "cell_type": "markdown",
   "id": "6a88748f-f149-4f9f-a229-cbc98ee2289e",
   "metadata": {},
   "source": [
    "### Solution: Good software engineering\n",
    "- Cookiecutter datascience for project structure\n",
    "- Clean Architecture by Robert C. Martin\n",
    "  - Good architecture makes projects understandable and maintainable \n",
    "    - Maintainability over functionality\n",
    "    - Cognitive easy over operation performance "
   ]
  },
  {
   "cell_type": "markdown",
   "id": "7ff065a2-03b1-4413-8e27-fde783d2ea42",
   "metadata": {},
   "source": [
    "### Solution: Tests and checks\n",
    "- Here, Jupyter can even be helpful as inline plotting allows to create many plots (which often reveal problems)\n",
    "- ToDo: include example from current data analysis"
   ]
  },
  {
   "cell_type": "markdown",
   "id": "6e9f2dbb-7513-4063-9ad4-e0e14a07b8d6",
   "metadata": {},
   "source": [
    "### Solution: Packages\n",
    "- Once functions are working, move them to actualy python packages\n",
    "- use display function method to still have them in the notebook if you need them"
   ]
  },
  {
   "cell_type": "markdown",
   "id": "247d8eea-ab88-4eb1-8ce7-f8d346d980f1",
   "metadata": {},
   "source": [
    "# General solution"
   ]
  },
  {
   "cell_type": "markdown",
   "id": "f756cc42-823a-48eb-9f6e-9c770bc152e7",
   "metadata": {},
   "source": [
    "We should start using nbdev https://www.youtube.com/watch?v=9Q6sLbz37gk, which allows to:\n",
    "- build packages with notebooks\n",
    "- version control\n",
    "- test\n",
    "- publish analysis as book (which is one of my long-time personal dreams) using fastdoc."
   ]
  }
 ],
 "metadata": {
  "kernelspec": {
   "display_name": "Python 3 (ipykernel)",
   "language": "python",
   "name": "python3"
  }
 },
 "nbformat": 4,
 "nbformat_minor": 5
}
