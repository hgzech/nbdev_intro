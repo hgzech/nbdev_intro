{
 "cells": [
  {
   "cell_type": "markdown",
   "id": "fa6097de-b4fb-42c4-9601-d7f83a153d53",
   "metadata": {},
   "source": [
    "# Getting started with Jupyter"
   ]
  },
  {
   "cell_type": "markdown",
   "id": "aac7d523-5222-4425-8de1-e8f8ba7fb5cd",
   "metadata": {},
   "source": [
    "## Install Miniconda (optional)\n",
    "This step is optional but it helps you install everything in the rest of the tutorial.  Later, it will also allow you to make your projects more shareable, maintainable, and reproducible.  Just click on [this link](https://docs.conda.io/en/latest/miniconda.html) and install the version for your operating system.\n",
    "\n",
    "If you want to speed up package installations (which you will use a lot), also install mamba.  If you do not install mamba, replace all \"mamba\" with \"conda\" in the rest of the tutorial:\n",
    "1. Type `conda install -c conda-forge mamba` in Terminal."
   ]
  },
  {
   "cell_type": "markdown",
   "id": "0ca2339d-d9e2-48ac-9819-41a6d8777b92",
   "metadata": {},
   "source": [
    "## Create an environment for your project (optional)\n",
    "Environments allow you to create folders for each of your projects into which your packages are istalled.  This ensures that the packages you need to install in project don't change anything packages in other projects (once you have more projects this actually can happen a lot and is very frustrating to deal with).\n",
    "\n",
    "1) To create a new environment, type `mamba create --name nb_intro` into your Terminal.\n",
    "2) To activate it, type `mamba activate nb_intro`\n",
    "\n",
    "Note: You can see in which environment you are, by looking at the beginning of the command prompt line:\n",
    "```\n",
    "(base) MacBook-Pro:~ hilmarzech$ conda activate nb_intro\n",
    "(nb_intro) MacBook-Pro:~ hilmarzech$ \n",
    "```"
   ]
  },
  {
   "cell_type": "markdown",
   "id": "4567557f-471d-4bd7-b388-919d92b1b287",
   "metadata": {},
   "source": [
    "## Install Jupyter lab\n",
    "Finally, you install jupyter lab.\n",
    "1) Type `mamba install jupyterlab` in your Terminal."
   ]
  },
  {
   "cell_type": "markdown",
   "id": "67c4f3a8-0d1a-4e3d-bef4-56b2784347e3",
   "metadata": {},
   "source": [
    "## Start Jupyter lab\n",
    "1. Activate your environment with `mamba activate nb_intro`\n",
    "2. Start jupyter `jupyter notebook`"
   ]
  }
 ],
 "metadata": {
  "kernelspec": {
   "display_name": "Python 3 (ipykernel)",
   "language": "python",
   "name": "python3"
  }
 },
 "nbformat": 4,
 "nbformat_minor": 5
}
